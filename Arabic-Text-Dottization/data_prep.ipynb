{
 "cells": [
  {
   "cell_type": "code",
   "execution_count": 1,
   "id": "bffe3b2c",
   "metadata": {},
   "outputs": [
    {
     "data": {
      "text/plain": [
       "'رٮٮه'"
      ]
     },
     "execution_count": 1,
     "metadata": {},
     "output_type": "execute_result"
    }
   ],
   "source": [
    "connecting_letters = [\n",
    "    'ب', 'ت', 'ث', 'ج', 'ح', 'خ',\n",
    "    'س', 'ش', 'ص', 'ض', 'ط', 'ظ',\n",
    "    'ع', 'غ', 'ف', 'ق', 'ك', 'ل',\n",
    "    'م', 'ن', 'ه', 'ي'\n",
    "]\n",
    "non_connecting_letters = ['ا', 'أ', 'إ', 'آ', 'د', 'ذ', 'ر', 'ز', 'و', 'ؤ', 'ء', 'ئ', 'ى', 'ة']\n",
    "\n",
    "arabic_letters = connecting_letters + non_connecting_letters\n",
    "\n",
    "replacements = {\n",
    "    'isolated': {\n",
    "        'ب': 'ٮ', 'ت': 'ٮ', 'ث': 'ٮ', 'ج': 'ح', 'خ': 'ح',\n",
    "        'ذ': 'د', 'ز': 'ر', 'ش': 'س', 'ض': 'ص', 'ظ': 'ط',\n",
    "        'غ': 'ع', 'ف': 'ڡ', 'ق': 'ٯ', 'ن': 'ں', 'ي': 'ى', 'ة': 'ه'\n",
    "    },\n",
    "    \n",
    "    \n",
    "    'initial': {\n",
    "        'ب': 'ٮ', 'ت': 'ٮ', 'ث': 'ٮ', 'ج': 'ح', 'خ': 'ح',\n",
    "        'ذ': 'د', 'ز': 'ر', 'ش': 'س', 'ض': 'ص', 'ظ': 'ط', \n",
    "        'غ': 'ع', 'ف': 'ڡ', 'ق': 'ڡ', 'ن': 'ٮ', 'ي': 'ٮ', 'ة': 'ه'\n",
    "    },\n",
    "    \n",
    "    # ي → ٮ in medial\n",
    "    'medial': {\n",
    "        'ب': 'ٮ', 'ت': 'ٮ', 'ث': 'ٮ', 'ج': 'ح', 'خ': 'ح',\n",
    "        'ذ': 'د', 'ز': 'ر', 'ش': 'س', 'ض': 'ص', 'ظ': 'ط', \n",
    "        'غ': 'ع', 'ف': 'ڡ', 'ق': 'ڡ', 'ن': 'ٮ', 'ي': 'ٮ', 'ة': 'ه'\n",
    "    },\n",
    "    \n",
    "    # ي → ى in final\n",
    "    'final': {\n",
    "        'ب': 'ٮ', 'ت': 'ٮ', 'ث': 'ٮ', 'ج': 'ح', 'خ': 'ح',\n",
    "        'ذ': 'د', 'ز': 'ر', 'ش': 'س', 'ض': 'ص', 'ظ': 'ط',\n",
    "        'غ': 'ع', 'ف': 'ڡ', 'ق': 'ٯ', 'ن': 'ں', 'ي': 'ى', 'ة': 'ه'  \n",
    "    }\n",
    "}\n",
    "\n",
    "\n",
    "def remove_dots(sentence): \n",
    "    padded_sentence = f' {sentence} '\n",
    "\n",
    "    new_sentence = ''\n",
    "    for i in range(1, len(padded_sentence) - 1):\n",
    "        if padded_sentence[i - 1] in connecting_letters:\n",
    "            if padded_sentence[i + 1] in arabic_letters:\n",
    "                new_sentence += replacements['medial'].get(padded_sentence[i], padded_sentence[i])  # medial\n",
    "            else:\n",
    "                new_sentence += replacements['final'].get(padded_sentence[i], padded_sentence[i])  # final\n",
    "        else: \n",
    "            if padded_sentence[i + 1] in arabic_letters:\n",
    "                new_sentence += replacements['initial'].get(padded_sentence[i], padded_sentence[i])  # initial\n",
    "            else:\n",
    "                new_sentence += replacements['isolated'].get(padded_sentence[i], padded_sentence[i])  # isolated \n",
    "    return new_sentence\n",
    "\n",
    "sentence =  \"زينة\"\n",
    "remove_dots(sentence)\n"
   ]
  },
  {
   "cell_type": "code",
   "execution_count": 2,
   "id": "bfb29e86",
   "metadata": {},
   "outputs": [],
   "source": [
    "from datasets import load_dataset\n",
    " \n",
    "dataset = load_dataset(\"wikimedia/wikipedia\", \"20231101.ar\", split=\"train\", streaming=True)  \n",
    "\n",
    "# Take just a few samples\n",
    "from itertools import islice\n",
    "small_dataset = list(islice(dataset, 20000))  \n"
   ]
  },
  {
   "cell_type": "code",
   "execution_count": 3,
   "id": "e1faa73f",
   "metadata": {},
   "outputs": [],
   "source": [
    "text_data = [d['text'] for d in small_dataset]\n"
   ]
  },
  {
   "cell_type": "code",
   "execution_count": 4,
   "id": "6acdc2de",
   "metadata": {},
   "outputs": [],
   "source": [
    "# Preprocess Text\n",
    "import re\n",
    "\n",
    "def clean_arabic_text(text):\n",
    "    # Remove Arabic diacritics (harakat)\n",
    "    harakat = r'[\\u0610-\\u061A\\u064B-\\u065F\\u0670\\u06D6-\\u06ED]'\n",
    "    text = re.sub(harakat, '', text)\n",
    "\n",
    "    # Keep only Arabic letters, numbers, special characters, and parentheses\n",
    "    pattern = r'[^\\u0600-\\u06FF0-9\\(\\)\\[\\]\\{\\}.,:;!?؟%\\-+=*/\\\\@#&<>\\\"\\'\\s]'\n",
    "    text = re.sub(pattern, '', text)\n",
    "    \n",
    "    return re.sub('\\n+', ' ', text)\n",
    "\n",
    "\n",
    "cleaned_text_data = [clean_arabic_text(text) for text in text_data]"
   ]
  },
  {
   "cell_type": "code",
   "execution_count": 5,
   "id": "7c6dcadb",
   "metadata": {},
   "outputs": [],
   "source": [
    "from random import randint\n",
    "# subtext\n",
    "max_sequence_length = 300\n",
    "\n",
    "sampled_text_data = []\n",
    "\n",
    "for text in cleaned_text_data:\n",
    "    tokenized_text = text.split(' ')\n",
    "    \n",
    "    if len(tokenized_text) < max_sequence_length:\n",
    "        continue\n",
    "        \n",
    "    random_start_index = randint(0, len(tokenized_text) - max_sequence_length)\n",
    "    \n",
    "    sampled_text = ' '.join(tokenized_text[random_start_index: random_start_index + max_sequence_length])\n",
    "     \n",
    "    sampled_text_data.append(sampled_text)\n",
    "    "
   ]
  },
  {
   "cell_type": "code",
   "execution_count": 6,
   "id": "4c740669",
   "metadata": {},
   "outputs": [],
   "source": [
    "# generate the dotless dataset\n",
    "\n",
    "dotless_text_data = [remove_dots(text) for text in sampled_text_data]"
   ]
  },
  {
   "cell_type": "code",
   "execution_count": 7,
   "id": "31d174cc",
   "metadata": {},
   "outputs": [
    {
     "data": {
      "text/plain": [
       "'معادلة شرودنغر المصادر والمراجع مصادر هوامش  . علم الفضاء والعدد والكمية والترتيب، الذي تتضمن طرائقه التفكير المنطقي واستخدام الترميز الرمزي، والذي يتضمن الهندسة والحساب والجبر والتحليل. . الرياضيات... هي ببساطة دراسة الهياكل المجردة، أو الأنماط الرسمية للترابط. . التفاضل والتكامل هو دراسة التغيير، كيف تتغير الأشياء، ومدى سرعة تغيرها. . الاقتباس هو إجابة أينشتاين على السؤال: كيف يمكن أن تكون الرياضيات، كونها نتاج فكر بشري مستقل عن التجربة، مناسبة بشكل مثير للإعجاب لموضوعات الواقع؟ استلهم هذا السؤال من مقالة يوجين وينر الفعالية غير المعقولة للرياضيات في العلوم الطبيعية. . من الضروري أولا أن نسأل ما هو المقصود بـالرياضيات بشكل عام. ناقش العلماء اللامعون هذه المسألة حتى أصبح وجههم أزرق، ومع ذلك لم يتم التوصل إلى إجماع حول ما إذا كانت الرياضيات هي علم طبيعي، أو فرع من العلوم الإنسانية، أو شكلا من أشكال الفن. . غالبا ما يكون حل المشكلات المركزة في الرياضيات والعلوم أكثر جهدا من التفكير المركز الذي يشمل اللغة والناس. قد يكون هذا بسبب عدم تطور البشر على مدى آلاف السنين للتلاعب بالأفكار الرياضية، والتي غالبا ما تكون مشفرة بشكل تجريدي أكثر من تلك الموجودة في اللغة التقليدية. . \"ماذا أعني بالتجريد؟ يمكنك الإشارة إلى \"بقرة\" حية حقيقية تمضغ طعامها في مرعى وتساويها بالحروف \"ب  ق  ر  ة\" على الصفحة. ولكن لا يمكنك ذلك إلا بالاستعانة ب\"علامة الجمع\" الحقيقية التي صصمم الرمز \"+\" لها، الفكرة الكامنة وراء علامة الجمع هي أكثر \"تجريدا\".\" . من خلال التشفير، أعني أن رمزا واحدا يمكن أن يمثل عددا من العمليات أو الأفكار المختلفة، تماما كما ترمز علامة الضرب إلى الإضافة المتكررة. . يشتكي البعض من أنه لا يمكن التحقق من برنامج الحاسوب بشكل صحيح، (في إشارة إلى إثبات هاكين - أبل لنظرية الألوان الأربعة). . من بين الفروع العديدة لنظرية مجموعات الرياضيات الحديثة، تحتل نظرية المجموعات مكانا فريدا: مع استثناءات قليلة نادرة، يمكن اعتبار الكيانات التي يتم'"
      ]
     },
     "execution_count": 7,
     "metadata": {},
     "output_type": "execute_result"
    }
   ],
   "source": [
    "sampled_text_data[1]"
   ]
  },
  {
   "cell_type": "code",
   "execution_count": 8,
   "id": "bc472ca1",
   "metadata": {},
   "outputs": [],
   "source": [
    "# save the dataset\n",
    "\n",
    "with open('original_text.txt', 'w', encoding='utf-8') as f:\n",
    "    for text in sampled_text_data:\n",
    "        f.write(text + '\\n')\n",
    "    \n",
    "\n",
    "with open('dotless_text.txt', 'w', encoding='utf-8') as f: \n",
    "    for text in dotless_text_data:\n",
    "        f.write(text + '\\n')"
   ]
  }
 ],
 "metadata": {
  "kernelspec": {
   "display_name": "Python 3",
   "language": "python",
   "name": "python3"
  },
  "language_info": {
   "codemirror_mode": {
    "name": "ipython",
    "version": 3
   },
   "file_extension": ".py",
   "mimetype": "text/x-python",
   "name": "python",
   "nbconvert_exporter": "python",
   "pygments_lexer": "ipython3",
   "version": "3.11.5"
  }
 },
 "nbformat": 4,
 "nbformat_minor": 5
}
