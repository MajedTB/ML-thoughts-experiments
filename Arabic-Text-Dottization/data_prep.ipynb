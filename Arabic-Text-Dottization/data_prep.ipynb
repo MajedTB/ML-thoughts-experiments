{
 "cells": [
  {
   "cell_type": "markdown",
   "id": "bce09101",
   "metadata": {},
   "source": [
    "| السبب                                                                 | الحرف المنفصل البديل | الحرف المنفصل | الحرف الابتدائي البديل | الحرف الابتدائي | الحرف الوسيط البديل | الحرف الوسيط | الحرف النهائي البديل | الحرف النهائي |\n",
    "|------------------------------------------------------------------------|------------------------|----------------|-------------------------|------------------|----------------------|--------------|-----------------------|---------------|\n",
    "| يمكن الخلط بين ب، ت، ث في جميع الحالات أو ن، ي في الأول والوسط         | ٮ                     | ب              | ٮـ                    | بـ               | ـٮـ                 | ـبـ          | ـٮ                  | ـب           |\n",
    "| يمكن الخلط بين ب، ت، ث في جميع الحالات أو ن، ي في الأول والوسط         | ٮ                     | ت              | ٮـ                    | تـ               | ـٮـ                 | ـتـ          | ـٮ                  | ـت           |\n",
    "| يمكن الخلط بين ب، ت، ث في جميع الحالات أو ن، ي في الأول والوسط         | ٮ                     | ث              | ٮـ                    | ثـ               | ـٮـ                 | ـثـ          | ـٮ                  | ـث           |\n",
    "| يمكن الخلط بين ح، خ، ج في جميع الحالات                                 | ح                     | ج              | حـ                    | جـ               | ـحـ                 | ـجـ          | ـح                  | ـج           |\n",
    "| يمكن الخلط بين ح، خ، ج في جميع الحالات                                 | ح                     | خ              | حـ                    | خـ               | ـحـ                 | ـخـ          | ـح                  | ـخ           |\n",
    "| يمكن الخلط بين ذ ود في الشكل النهائي والمنفصل                          | د                     | ذ              |                         |                  |                      |              | ـد                  | ـذ           |\n",
    "| يمكن الخلط بين ز ور في الشكل النهائي والمنفصل                          | ر                     | ز              |                         |                  |                      |              | ـر                  | ـز           |\n",
    "| يمكن الخلط بين ش وس                                                   | س                     | ش              | سـ                    | شـ               | ـسـ                 | ـشـ          | ـس                  | ـش           |\n",
    "| يمكن الخلط بين ض وص                                                   | ص                     | ض              | صـ                    | ضـ               | ـصـ                 | ـضـ          | ـص                  | ـض           |\n",
    "| يمكن الخلط بين ظ وط                                                   | ط                     | ظ              | طـ                    | ظـ               | ـطـ                 | ـظـ          | ـط                  | ـظ           |\n",
    "| يمكن الخلط بين غ وع                                                   | ع                     | غ              | عـ                    | غـ               | ـعـ                 | ـغـ          | ـع                  | ـغ           |\n",
    "| يمكن الخلط بين ف وف في جميع الأشكال                                    | ڡ                     | ف              | ڡـ                    | فـ               | ـڡـ                 | ـفـ          | ـڡ                  | ـف           |\n",
    "| يمكن تمييز ق في الشكل المنفصل والنهاية، ولكن تُخلط في البداية والوسط مع ف | ٯ                     | ق              | ڡـ                    | قـ               | ـڡـ                 | ـقـ          | ـٯ                  | ـق           |\n",
    "| تُخلط في البداية والوسط مع ب، ت، ث أو ن، ي                              | ں                     | ن              | ٮـ                    | نـ               | ـٮـ                 | ـنـ          | ـں                  | ـن           |\n",
    "| تُخلط في البداية والوسط مع ب، ت، ث أو ن، ي                              | ى                     | ي              | ٮـ                    | يـ               | ـٮـ                 | ـيـ          | ـى                  | ـي           |\n",
    "| تُشبه الهاء في الشكل النهائي                                          | ه                     | ة              |                         |                  |                      |              | ـه                  | ـة           |\n"
   ]
  },
  {
   "cell_type": "code",
   "execution_count": 62,
   "id": "bffe3b2c",
   "metadata": {},
   "outputs": [
    {
     "data": {
      "text/plain": [
       "'رٮٮه'"
      ]
     },
     "execution_count": 62,
     "metadata": {},
     "output_type": "execute_result"
    }
   ],
   "source": [
    "connecting_letters = [\n",
    "    'ب', 'ت', 'ث', 'ج', 'ح', 'خ',\n",
    "    'س', 'ش', 'ص', 'ض', 'ط', 'ظ',\n",
    "    'ع', 'غ', 'ف', 'ق', 'ك', 'ل',\n",
    "    'م', 'ن', 'ه', 'ي'\n",
    "]\n",
    "non_connecting_letters = ['ا', 'أ', 'إ', 'آ', 'د', 'ذ', 'ر', 'ز', 'و', 'ؤ', 'ء', 'ئ', 'ى', 'ة']\n",
    "\n",
    "arabic_letters = connecting_letters + non_connecting_letters\n",
    "\n",
    "replacements = {\n",
    "    'isolated': {\n",
    "        'ب': 'ٮ', 'ت': 'ٮ', 'ث': 'ٮ', 'ج': 'ح', 'خ': 'ح',\n",
    "        'ذ': 'د', 'ز': 'ر', 'ش': 'س', 'ض': 'ص', 'ظ': 'ط',\n",
    "        'غ': 'ع', 'ف': 'ڡ', 'ق': 'ٯ', 'ن': 'ں', 'ي': 'ى', 'ة': 'ه'\n",
    "    },\n",
    "    \n",
    "    \n",
    "    'initial': {\n",
    "        'ب': 'ٮ', 'ت': 'ٮ', 'ث': 'ٮ', 'ج': 'ح', 'خ': 'ح',\n",
    "        'ذ': 'د', 'ز': 'ر', 'ش': 'س', 'ض': 'ص', 'ظ': 'ط', \n",
    "        'غ': 'ع', 'ف': 'ڡ', 'ق': 'ڡ', 'ن': 'ٮ', 'ي': 'ٮ', 'ة': 'ه'\n",
    "    },\n",
    "    \n",
    "    # ي → ٮ in medial\n",
    "    'medial': {\n",
    "        'ب': 'ٮ', 'ت': 'ٮ', 'ث': 'ٮ', 'ج': 'ح', 'خ': 'ح',\n",
    "        'ذ': 'د', 'ز': 'ر', 'ش': 'س', 'ض': 'ص', 'ظ': 'ط', \n",
    "        'غ': 'ع', 'ف': 'ڡ', 'ق': 'ڡ', 'ن': 'ٮ', 'ي': 'ٮ', 'ة': 'ه'\n",
    "    },\n",
    "    \n",
    "    # ي → ى in final\n",
    "    'final': {\n",
    "        'ب': 'ٮ', 'ت': 'ٮ', 'ث': 'ٮ', 'ج': 'ح', 'خ': 'ح',\n",
    "        'ذ': 'د', 'ز': 'ر', 'ش': 'س', 'ض': 'ص', 'ظ': 'ط',\n",
    "        'غ': 'ع', 'ف': 'ڡ', 'ق': 'ٯ', 'ن': 'ں', 'ي': 'ى', 'ة': 'ه'  \n",
    "    }\n",
    "}\n",
    "\n",
    "\n",
    "def remove_dots(sentence): \n",
    "    padded_sentence = f' {sentence} '\n",
    "\n",
    "    new_sentence = ''\n",
    "    for i in range(1, len(padded_sentence) - 1):\n",
    "        if padded_sentence[i - 1] in connecting_letters:\n",
    "            if padded_sentence[i + 1] in arabic_letters:\n",
    "                new_sentence += replacements['medial'].get(padded_sentence[i], padded_sentence[i])  # medial\n",
    "            else:\n",
    "                new_sentence += replacements['final'].get(padded_sentence[i], padded_sentence[i])  # final\n",
    "        else: \n",
    "            if padded_sentence[i + 1] in arabic_letters:\n",
    "                new_sentence += replacements['initial'].get(padded_sentence[i], padded_sentence[i])  # initial\n",
    "            else:\n",
    "                new_sentence += replacements['isolated'].get(padded_sentence[i], padded_sentence[i])  # isolated \n",
    "    return new_sentence\n",
    "\n",
    "sentence =  \"زينة\"\n",
    "remove_dots(sentence)\n"
   ]
  },
  {
   "cell_type": "code",
   "execution_count": null,
   "id": "bfb29e86",
   "metadata": {},
   "outputs": [],
   "source": [
    "from datasets import load_dataset\n",
    " \n",
    "dataset = load_dataset(\"wikimedia/wikipedia\", \"20231101.ar\", split=\"train\", streaming=True)  \n",
    "\n",
    "# Take just a few samples\n",
    "from itertools import islice\n",
    "small_dataset = list(islice(dataset, 20000))  \n"
   ]
  },
  {
   "cell_type": "code",
   "execution_count": null,
   "id": "e1faa73f",
   "metadata": {},
   "outputs": [],
   "source": [
    "text_data = [d['text'] for d in small_dataset]\n"
   ]
  },
  {
   "cell_type": "code",
   "execution_count": 69,
   "id": "6acdc2de",
   "metadata": {},
   "outputs": [],
   "source": [
    "# Preprocess Text\n",
    "import re\n",
    "\n",
    "def clean_arabic_text(text):\n",
    "    # Remove Arabic diacritics (harakat)\n",
    "    harakat = r'[\\u0610-\\u061A\\u064B-\\u065F\\u0670\\u06D6-\\u06ED]'\n",
    "    text = re.sub(harakat, '', text)\n",
    "\n",
    "    # Keep only Arabic letters, numbers, special characters, and parentheses\n",
    "    pattern = r'[^\\u0600-\\u06FF0-9\\(\\)\\[\\]\\{\\}.,:;!?؟%\\-+=*/\\\\@#&<>\\\"\\'\\s]'\n",
    "    text = re.sub(pattern, '', text)\n",
    "    \n",
    "    return re.sub('\\n+', ' ', text)\n",
    "\n",
    "\n",
    "cleaned_text_data = [clean_arabic_text(text) for text in text_data]"
   ]
  },
  {
   "cell_type": "code",
   "execution_count": 70,
   "id": "7c6dcadb",
   "metadata": {},
   "outputs": [],
   "source": [
    "from random import randint\n",
    "# subtext\n",
    "max_sequence_length = 300\n",
    "\n",
    "sampled_text_data = []\n",
    "\n",
    "for text in cleaned_text_data:\n",
    "    tokenized_text = text.split(' ')\n",
    "    \n",
    "    if len(tokenized_text) < max_sequence_length:\n",
    "        continue\n",
    "        \n",
    "    random_start_index = randint(0, len(tokenized_text) - max_sequence_length)\n",
    "    \n",
    "    sampled_text = ' '.join(tokenized_text[random_start_index: random_start_index + max_sequence_length])\n",
    "     \n",
    "    sampled_text_data.append(sampled_text)\n",
    "    "
   ]
  },
  {
   "cell_type": "code",
   "execution_count": null,
   "id": "4c740669",
   "metadata": {},
   "outputs": [],
   "source": [
    "# generate the dotless dataset\n",
    "\n",
    "dotless_text_data = [remove_dots(text) for text in sampled_text_data]"
   ]
  },
  {
   "cell_type": "code",
   "execution_count": 74,
   "id": "31d174cc",
   "metadata": {},
   "outputs": [
    {
     "data": {
      "text/plain": [
       "'قوس القطع المكافئ مع تجميع سلسلة لانهائية، بطريقة لا تختلف كثيرا عن حساب التفاضل والتكامل الحديث. الإنجازات البارزة الأخرى في الرياضيات اليونانية هي أقسام مخروطية (أبلونيوس البرغاوي، القرن الثالث قبل الميلاد)، وعلم المثلثات (أبرخش، القرن الثاني قبل الميلاد)، وبدايات الجبر (ديوفانتوس الإسكندري، القرن الثالث للميلاد). تطور نظام العد الهندي العربي وقواعد استخدام عملياتها، المستخدمة في جميع أنحاء العالم اليوم، على مدار الألفية الأولى الميلادية في الهند وتم نقلها إلى العالم الغربي عبر الرياضيات في العالم الإسلامي. تشمل التطورات الأخرى البارزة في الرياضيات الهندية التعريف الحديث للجيب وجيب التمام، وشكل مبكر من سلسلة لانهائية. كان لعلماء المسلمين في عصر الحضارة الإسلامية فضل كبير في تقدم علم الرياضيات، فقد أثروه وابتكروا فيه وأضافوا إليه وطوروه، استفاد العالم أجمع من الإرث الذي تركوه. في البداية، جمع العلماء المسلمون نتاج علماء الأمم السابقة في حقل الرياضيات، ثم ترجموه، ومنه انطلقوا في الاكتشاف والابتكار والإبداع، ويعد المسلمون أول من اشتغل في علم الجبر وأول من كتب فيه الخوارزمي، وهم الذين أطلقوا عليه اسم الجبر، ونتيجة الاهتمام الذي أولوه إليه، فقد كانوا أول من ألف فيه بطريقة علمية منظمة. كما توسعوا في حساب المثلثات وبحوث النسبة التي قسموها إلى ثلاثة أقسام: عددية وهندسية وتأليفية، وحلوا بعض المعادلات الخطية بطريقة حساب الخطأين، والمعادلات التربيعية، وأحلوا الجيوب محل الأوتار، وجاءوا بنظريات أساسية جديدة لحل مثلثات الأضلاع، وربطوا علم الجبر بالأشكال الهندسية، وإليهم يرجع الفضل في وضع علم المثلثات بشكل علمي منظم مستقل عن علم الفلك، ما دفع الكثيرين إلى اعتباره علما عربيا خالصا. ومن الإنجازات البارزة الأخرى في الفترة الإسلامية هي التقدم في علم المثلثات الكروية وإضافة العلامة العشرية إلى نظام الأرقام العربية. كان العديد من علماء الرياضيات البارزين من هذه الفترة من بلاد فارس، مثل الخوارزمي وعمر الخيام وشرف الدين الطوسي. حتى حوالي عام 1700 في أوروبا، كان مصطلح الرياضيات أكثر شيوعا بمعنى علم التنجيم (أو في بعض الأحيان علم الفلك) بدلا من الرياضيات؛ لقد تغير المعنى'"
      ]
     },
     "execution_count": 74,
     "metadata": {},
     "output_type": "execute_result"
    }
   ],
   "source": [
    "sampled_text_data[1]"
   ]
  },
  {
   "cell_type": "code",
   "execution_count": 76,
   "id": "bc472ca1",
   "metadata": {},
   "outputs": [],
   "source": [
    "# save the dataset\n",
    "\n",
    "with open('original_text.txt', 'w', encoding='utf-8') as f:\n",
    "    for text in sampled_text_data:\n",
    "        f.write(text + '\\n')\n",
    "    \n",
    "\n",
    "with open('dotless_text.txt', 'w', encoding='utf-8') as f: \n",
    "    for text in dotless_text_data:\n",
    "        f.write(text + '\\n')"
   ]
  }
 ],
 "metadata": {
  "kernelspec": {
   "display_name": "Python 3",
   "language": "python",
   "name": "python3"
  },
  "language_info": {
   "codemirror_mode": {
    "name": "ipython",
    "version": 3
   },
   "file_extension": ".py",
   "mimetype": "text/x-python",
   "name": "python",
   "nbconvert_exporter": "python",
   "pygments_lexer": "ipython3",
   "version": "3.11.5"
  }
 },
 "nbformat": 4,
 "nbformat_minor": 5
}
