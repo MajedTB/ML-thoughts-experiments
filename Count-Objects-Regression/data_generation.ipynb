{
 "cells": [
  {
   "cell_type": "code",
   "execution_count": 15,
   "metadata": {},
   "outputs": [],
   "source": [
    "import numpy as np\n",
    "from PIL import Image, ImageDraw\n",
    "import pandas as pd\n",
    "from random import choice"
   ]
  },
  {
   "cell_type": "code",
   "execution_count": 16,
   "metadata": {},
   "outputs": [],
   "source": [
    "# image properties\n",
    "image_width = 500\n",
    "image_height = 500\n",
    "image_size = (image_width, image_height)\n",
    "\n",
    "# objects properties\n",
    "min_radius = 10\n",
    "max_radius = 50\n",
    "padding = 50\n",
    "def object_color(): return choice(['red', 'green', 'blue'])\n",
    "\n",
    "\n",
    "# generate random bins\n",
    "bin_size = 3\n",
    "max_objects = 20\n",
    "bins = range(1, max_objects, bin_size)\n",
    "samples_per_bin = 40\n",
    "\n",
    "# dataset\n",
    "image_number = 0\n",
    "counts_dataset = {}  # maps imagename to count of objects\n",
    "coords_dataset = []  # maps imagename to locations of objects\n",
    "data_path = \"data/test\"\n",
    "\n",
    "for bin in bins:\n",
    "    count_objects_per_image = np.random.randint(\n",
    "        bin, bin + bin_size, size=samples_per_bin)\n",
    "\n",
    "    for count_objects in count_objects_per_image:\n",
    "        image = Image.new(\"RGB\", image_size, \"white\")\n",
    "        draw = ImageDraw.Draw(image)\n",
    "\n",
    "        image_file_name = f'image{image_number}.png'\n",
    "        for _ in range(count_objects):\n",
    "            x_pos = np.random.randint(padding, image_width - padding)\n",
    "            y_pos = np.random.randint(padding, image_height - padding)\n",
    "            radius = np.random.randint(min_radius, max_radius)\n",
    "\n",
    "            draw.ellipse((x_pos, y_pos, x_pos + radius,\n",
    "                         y_pos + radius), fill=object_color())\n",
    "\n",
    "            coords_dataset.append(\n",
    "                (image_file_name, x_pos + radius/2, y_pos + radius/2))\n",
    "\n",
    "        image.save(f'{data_path}/images/{image_file_name}')\n",
    "        counts_dataset[image_file_name] = count_objects\n",
    "        image_number += 1\n",
    "\n",
    "\n",
    "counts_dataset_df = pd.DataFrame({\n",
    "    'image': counts_dataset.keys(),\n",
    "    'count': counts_dataset.values()\n",
    "})\n",
    "\n",
    "coords_dataset_df = pd.DataFrame({\n",
    "    'image': [d[0] for d in coords_dataset],\n",
    "    'x': [d[1] for d in coords_dataset],\n",
    "    'y': [d[2] for d in coords_dataset],\n",
    "})\n",
    "\n",
    "counts_dataset_df.to_csv(f'{data_path}/counts_annotations.csv', index=False)\n",
    "coords_dataset_df.to_csv(f'{data_path}/coords_annotations.csv', index=False)"
   ]
  },
  {
   "cell_type": "code",
   "execution_count": null,
   "metadata": {},
   "outputs": [],
   "source": []
  }
 ],
 "metadata": {
  "kernelspec": {
   "display_name": "Python 3",
   "language": "python",
   "name": "python3"
  },
  "language_info": {
   "codemirror_mode": {
    "name": "ipython",
    "version": 3
   },
   "file_extension": ".py",
   "mimetype": "text/x-python",
   "name": "python",
   "nbconvert_exporter": "python",
   "pygments_lexer": "ipython3",
   "version": "3.11.5"
  }
 },
 "nbformat": 4,
 "nbformat_minor": 2
}
